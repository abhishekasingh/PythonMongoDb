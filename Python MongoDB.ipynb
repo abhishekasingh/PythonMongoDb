{
 "cells": [
  {
   "cell_type": "markdown",
   "metadata": {},
   "source": [
    "## <div class=\"alert alert-info\"><center>PyMongo</center></div>"
   ]
  },
  {
   "cell_type": "markdown",
   "metadata": {},
   "source": [
    "#### For Windows:"
   ]
  },
  {
   "cell_type": "markdown",
   "metadata": {},
   "source": [
    "$ pip3 install pymongo==3.4.0"
   ]
  },
  {
   "cell_type": "markdown",
   "metadata": {},
   "source": [
    "#### For Mac:"
   ]
  },
  {
   "cell_type": "markdown",
   "metadata": {},
   "source": [
    "$ brew install mongodb"
   ]
  },
  {
   "cell_type": "markdown",
   "metadata": {},
   "source": [
    "#### Run the below code in the python shell. If it runs without any exception, the install works."
   ]
  },
  {
   "cell_type": "code",
   "execution_count": 181,
   "metadata": {},
   "outputs": [],
   "source": [
    "import pymongo"
   ]
  },
  {
   "cell_type": "markdown",
   "metadata": {},
   "source": [
    "### <div class=\"alert alert-info\"><center>Establishing a Connection</center></div>"
   ]
  },
  {
   "cell_type": "code",
   "execution_count": 182,
   "metadata": {},
   "outputs": [],
   "source": [
    "from pymongo import MongoClient"
   ]
  },
  {
   "cell_type": "code",
   "execution_count": 183,
   "metadata": {},
   "outputs": [],
   "source": [
    "client = MongoClient()"
   ]
  },
  {
   "cell_type": "code",
   "execution_count": 184,
   "metadata": {},
   "outputs": [],
   "source": [
    "client = MongoClient('localhost', 27017)"
   ]
  },
  {
   "cell_type": "markdown",
   "metadata": {},
   "source": [
    "#### Mongo URI format:"
   ]
  },
  {
   "cell_type": "code",
   "execution_count": 185,
   "metadata": {},
   "outputs": [],
   "source": [
    "## client = MongoClient('mongodb://localhost:27017')"
   ]
  },
  {
   "cell_type": "code",
   "execution_count": 186,
   "metadata": {},
   "outputs": [],
   "source": [
    "## client"
   ]
  },
  {
   "cell_type": "markdown",
   "metadata": {},
   "source": [
    "### <div class=\"alert alert-info\"><center>Creating a Database</center></div>"
   ]
  },
  {
   "cell_type": "code",
   "execution_count": 187,
   "metadata": {},
   "outputs": [],
   "source": [
    "db = client.pymongo_test_db"
   ]
  },
  {
   "cell_type": "markdown",
   "metadata": {},
   "source": [
    "#### Dictionary-style access"
   ]
  },
  {
   "cell_type": "code",
   "execution_count": 188,
   "metadata": {},
   "outputs": [],
   "source": [
    "# db = client['pymongo_test']"
   ]
  },
  {
   "cell_type": "markdown",
   "metadata": {},
   "source": [
    "#### <div style='color:red'>Note: In MongoDB, a database is not created until the data is added to database</div>"
   ]
  },
  {
   "cell_type": "markdown",
   "metadata": {},
   "source": [
    "### <div class=\"alert alert-info\"><center>Collection</center></div>"
   ]
  },
  {
   "cell_type": "markdown",
   "metadata": {},
   "source": [
    "A collection is a group of documents stored in MongoDB, and can be thought of as roughly the equivalent of a table in a relational database."
   ]
  },
  {
   "cell_type": "code",
   "execution_count": 189,
   "metadata": {},
   "outputs": [],
   "source": [
    "# Using dictionary style\n",
    "# posts = db['posts']\n",
    "\n",
    "posts = db.posts"
   ]
  },
  {
   "cell_type": "markdown",
   "metadata": {},
   "source": [
    "### <div class=\"alert alert-info\"><center>Check if Database Exist</center></div>"
   ]
  },
  {
   "cell_type": "code",
   "execution_count": 190,
   "metadata": {},
   "outputs": [],
   "source": [
    "# print(client.list_database_names())"
   ]
  },
  {
   "cell_type": "markdown",
   "metadata": {},
   "source": [
    "### <div class=\"alert alert-info\"><center>Insert Document</center></div>"
   ]
  },
  {
   "cell_type": "markdown",
   "metadata": {},
   "source": [
    "#### 1. insert_one() method:"
   ]
  },
  {
   "cell_type": "code",
   "execution_count": 191,
   "metadata": {},
   "outputs": [
    {
     "name": "stdout",
     "output_type": "stream",
     "text": [
      "One post: 5cf72d0aeaa0c7361470e5d3\n"
     ]
    }
   ],
   "source": [
    "\n",
    "post_data = {\n",
    "    'name': 'Abhishek',\n",
    "    'student_id': '100329591',\n",
    "    'address': '5468, Ross Street, Vancouver, BC'\n",
    "}\n",
    "result = posts.insert_one(post_data)\n",
    "## inserted_id returns the inserted id for the given data\n",
    "print(f'One post: {result.inserted_id}')"
   ]
  },
  {
   "cell_type": "code",
   "execution_count": 192,
   "metadata": {},
   "outputs": [
    {
     "name": "stdout",
     "output_type": "stream",
     "text": [
      "{'_id': ObjectId('5cf72998eaa0c7361470e5cd'), 'name': 'Abhishek', 'student_id': '100329591', 'address': 'Campus'}\n",
      "{'_id': ObjectId('5cf7299aeaa0c7361470e5ce'), 'name': 'John David', 'student_id': '100329582', 'address': 'Campus'}\n",
      "{'_id': ObjectId('5cf7299aeaa0c7361470e5cf'), 'name': 'Richard', 'student_id': '100329583', 'address': 'Campus'}\n",
      "{'_id': ObjectId('5cf7299aeaa0c7361470e5d0'), 'name': 'Joey', 'student_id': '100329584', 'address': 'Campus'}\n",
      "{'_id': ObjectId('5cf72d0aeaa0c7361470e5d3'), 'name': 'Abhishek', 'student_id': '100329591', 'address': '5468, Ross Street, Vancouver, BC'}\n"
     ]
    }
   ],
   "source": [
    "for data in posts.find():\n",
    "    print(data)"
   ]
  },
  {
   "cell_type": "markdown",
   "metadata": {},
   "source": [
    "#### 2. insert_many() method:"
   ]
  },
  {
   "cell_type": "code",
   "execution_count": 193,
   "metadata": {},
   "outputs": [],
   "source": [
    "post_1 = {\n",
    "    'name': 'Michael',\n",
    "    'student_id': '100329582',\n",
    "    'address': '9852, Elliott street, Vancouver, BC'\n",
    "}\n",
    "post_2 = {\n",
    "    'name': 'Richard',\n",
    "    'student_id': '100329583',\n",
    "    'address': '1234, Victoria Street, Vancouver, BC'\n",
    "}\n",
    "post_3 = {\n",
    "    'name': 'Joey',\n",
    "    'student_id': '100329584',\n",
    "    'address': '2345 Saint John Street, Aucland, New Zealand'\n",
    "}\n",
    "new_result = posts.insert_many([post_1, post_2, post_3])"
   ]
  },
  {
   "cell_type": "code",
   "execution_count": 194,
   "metadata": {},
   "outputs": [
    {
     "name": "stdout",
     "output_type": "stream",
     "text": [
      "{'_id': ObjectId('5cf72998eaa0c7361470e5cd'), 'name': 'Abhishek', 'student_id': '100329591', 'address': 'Campus'}\n",
      "{'_id': ObjectId('5cf7299aeaa0c7361470e5ce'), 'name': 'John David', 'student_id': '100329582', 'address': 'Campus'}\n",
      "{'_id': ObjectId('5cf7299aeaa0c7361470e5cf'), 'name': 'Richard', 'student_id': '100329583', 'address': 'Campus'}\n",
      "{'_id': ObjectId('5cf7299aeaa0c7361470e5d0'), 'name': 'Joey', 'student_id': '100329584', 'address': 'Campus'}\n",
      "{'_id': ObjectId('5cf72d0aeaa0c7361470e5d3'), 'name': 'Abhishek', 'student_id': '100329591', 'address': '5468, Ross Street, Vancouver, BC'}\n",
      "{'_id': ObjectId('5cf72d0aeaa0c7361470e5d4'), 'name': 'Michael', 'student_id': '100329582', 'address': '9852, Elliott street, Vancouver, BC'}\n",
      "{'_id': ObjectId('5cf72d0aeaa0c7361470e5d5'), 'name': 'Richard', 'student_id': '100329583', 'address': '1234, Victoria Street, Vancouver, BC'}\n",
      "{'_id': ObjectId('5cf72d0aeaa0c7361470e5d6'), 'name': 'Joey', 'student_id': '100329584', 'address': '2345 Saint John Street, Aucland, New Zealand'}\n"
     ]
    }
   ],
   "source": [
    "for data in posts.find():\n",
    "    print(data)"
   ]
  },
  {
   "cell_type": "markdown",
   "metadata": {},
   "source": [
    "### <div class=\"alert alert-info\"><center>Counting</center></div>"
   ]
  },
  {
   "cell_type": "markdown",
   "metadata": {},
   "source": [
    "#### 1. Count all documents"
   ]
  },
  {
   "cell_type": "code",
   "execution_count": 195,
   "metadata": {},
   "outputs": [
    {
     "data": {
      "text/plain": [
       "8"
      ]
     },
     "execution_count": 195,
     "metadata": {},
     "output_type": "execute_result"
    }
   ],
   "source": [
    "posts.count_documents({})"
   ]
  },
  {
   "cell_type": "markdown",
   "metadata": {},
   "source": [
    "#### 2. Count Particular documents"
   ]
  },
  {
   "cell_type": "code",
   "execution_count": 196,
   "metadata": {},
   "outputs": [
    {
     "data": {
      "text/plain": [
       "2"
      ]
     },
     "execution_count": 196,
     "metadata": {},
     "output_type": "execute_result"
    }
   ],
   "source": [
    "posts.count_documents({\"name\": \"Richard\"})"
   ]
  },
  {
   "cell_type": "markdown",
   "metadata": {},
   "source": [
    "### <div class=\"alert alert-info\"><center>Python MongoDB Find</center></div>"
   ]
  },
  {
   "cell_type": "markdown",
   "metadata": {},
   "source": [
    "#### 1. Find using find_one() to retrieve single data"
   ]
  },
  {
   "cell_type": "code",
   "execution_count": 197,
   "metadata": {},
   "outputs": [
    {
     "name": "stdout",
     "output_type": "stream",
     "text": [
      "{'_id': ObjectId('5cf72998eaa0c7361470e5cd'), 'name': 'Abhishek', 'student_id': '100329591', 'address': 'Campus'}\n"
     ]
    }
   ],
   "source": [
    "one_post = posts.find_one()\n",
    "print(one_post)"
   ]
  },
  {
   "cell_type": "markdown",
   "metadata": {},
   "source": [
    "#### 2. Find using find() to retrieve all data"
   ]
  },
  {
   "cell_type": "code",
   "execution_count": 198,
   "metadata": {},
   "outputs": [
    {
     "name": "stdout",
     "output_type": "stream",
     "text": [
      "{'_id': ObjectId('5cf72998eaa0c7361470e5cd'), 'name': 'Abhishek', 'student_id': '100329591', 'address': 'Campus'}\n",
      "{'_id': ObjectId('5cf7299aeaa0c7361470e5ce'), 'name': 'John David', 'student_id': '100329582', 'address': 'Campus'}\n",
      "{'_id': ObjectId('5cf7299aeaa0c7361470e5cf'), 'name': 'Richard', 'student_id': '100329583', 'address': 'Campus'}\n",
      "{'_id': ObjectId('5cf7299aeaa0c7361470e5d0'), 'name': 'Joey', 'student_id': '100329584', 'address': 'Campus'}\n",
      "{'_id': ObjectId('5cf72d0aeaa0c7361470e5d3'), 'name': 'Abhishek', 'student_id': '100329591', 'address': '5468, Ross Street, Vancouver, BC'}\n",
      "{'_id': ObjectId('5cf72d0aeaa0c7361470e5d4'), 'name': 'Michael', 'student_id': '100329582', 'address': '9852, Elliott street, Vancouver, BC'}\n",
      "{'_id': ObjectId('5cf72d0aeaa0c7361470e5d5'), 'name': 'Richard', 'student_id': '100329583', 'address': '1234, Victoria Street, Vancouver, BC'}\n",
      "{'_id': ObjectId('5cf72d0aeaa0c7361470e5d6'), 'name': 'Joey', 'student_id': '100329584', 'address': '2345 Saint John Street, Aucland, New Zealand'}\n"
     ]
    }
   ],
   "source": [
    "for data in posts.find():\n",
    "    print(data)"
   ]
  },
  {
   "cell_type": "markdown",
   "metadata": {},
   "source": [
    "#### Return Only Some Fields"
   ]
  },
  {
   "cell_type": "code",
   "execution_count": 199,
   "metadata": {},
   "outputs": [
    {
     "name": "stdout",
     "output_type": "stream",
     "text": [
      "{'name': 'Abhishek', 'address': 'Campus'}\n",
      "{'name': 'John David', 'address': 'Campus'}\n",
      "{'name': 'Richard', 'address': 'Campus'}\n",
      "{'name': 'Joey', 'address': 'Campus'}\n",
      "{'name': 'Abhishek', 'address': '5468, Ross Street, Vancouver, BC'}\n",
      "{'name': 'Michael', 'address': '9852, Elliott street, Vancouver, BC'}\n",
      "{'name': 'Richard', 'address': '1234, Victoria Street, Vancouver, BC'}\n",
      "{'name': 'Joey', 'address': '2345 Saint John Street, Aucland, New Zealand'}\n"
     ]
    }
   ],
   "source": [
    "for x in posts.find({},{ \"_id\": 0, \"name\": 1, \"address\": 1 }):\n",
    "    print(x)"
   ]
  },
  {
   "cell_type": "markdown",
   "metadata": {},
   "source": [
    "#### <div style='color:red'>Note: The combination of 0 and 1 is not allowed except if one of the feild is _id.</div>"
   ]
  },
  {
   "cell_type": "markdown",
   "metadata": {},
   "source": [
    "#### Filter the Result"
   ]
  },
  {
   "cell_type": "code",
   "execution_count": 200,
   "metadata": {},
   "outputs": [],
   "source": [
    "searchquery = { \"address\": \"5468, Ross Street, Vancouver, BC\" }"
   ]
  },
  {
   "cell_type": "code",
   "execution_count": 201,
   "metadata": {},
   "outputs": [
    {
     "name": "stdout",
     "output_type": "stream",
     "text": [
      "{'_id': ObjectId('5cf72d0aeaa0c7361470e5d3'), 'name': 'Abhishek', 'student_id': '100329591', 'address': '5468, Ross Street, Vancouver, BC'}\n"
     ]
    }
   ],
   "source": [
    "results = posts.find(searchquery)\n",
    "\n",
    "for data in results:\n",
    "    print(data)"
   ]
  },
  {
   "cell_type": "markdown",
   "metadata": {},
   "source": [
    "#### Filter With Regular Expressions"
   ]
  },
  {
   "cell_type": "code",
   "execution_count": 202,
   "metadata": {},
   "outputs": [],
   "source": [
    "advancequery = { \"address\": {\"$regex\":\"^5\"}}"
   ]
  },
  {
   "cell_type": "code",
   "execution_count": 203,
   "metadata": {},
   "outputs": [
    {
     "name": "stdout",
     "output_type": "stream",
     "text": [
      "{'_id': ObjectId('5cf72d0aeaa0c7361470e5d3'), 'name': 'Abhishek', 'student_id': '100329591', 'address': '5468, Ross Street, Vancouver, BC'}\n"
     ]
    }
   ],
   "source": [
    "advanceresults = posts.find(advancequery)\n",
    "\n",
    "for datas in advanceresults:\n",
    "    print(datas)"
   ]
  },
  {
   "cell_type": "markdown",
   "metadata": {},
   "source": [
    "#### <div style='color:red'>Note: Regular expressions can only be applied to strings.</div>"
   ]
  },
  {
   "cell_type": "markdown",
   "metadata": {},
   "source": [
    "#### Sort the Result"
   ]
  },
  {
   "cell_type": "markdown",
   "metadata": {},
   "source": [
    "Sort accepts two parameter: Fieldname and order. By default the order is ascending"
   ]
  },
  {
   "cell_type": "code",
   "execution_count": 204,
   "metadata": {},
   "outputs": [],
   "source": [
    "sortresultasc = posts.find().sort(\"name\",1) #ascending"
   ]
  },
  {
   "cell_type": "code",
   "execution_count": 205,
   "metadata": {},
   "outputs": [
    {
     "name": "stdout",
     "output_type": "stream",
     "text": [
      "{'_id': ObjectId('5cf72998eaa0c7361470e5cd'), 'name': 'Abhishek', 'student_id': '100329591', 'address': 'Campus'}\n",
      "{'_id': ObjectId('5cf72d0aeaa0c7361470e5d3'), 'name': 'Abhishek', 'student_id': '100329591', 'address': '5468, Ross Street, Vancouver, BC'}\n",
      "{'_id': ObjectId('5cf7299aeaa0c7361470e5d0'), 'name': 'Joey', 'student_id': '100329584', 'address': 'Campus'}\n",
      "{'_id': ObjectId('5cf72d0aeaa0c7361470e5d6'), 'name': 'Joey', 'student_id': '100329584', 'address': '2345 Saint John Street, Aucland, New Zealand'}\n",
      "{'_id': ObjectId('5cf7299aeaa0c7361470e5ce'), 'name': 'John David', 'student_id': '100329582', 'address': 'Campus'}\n",
      "{'_id': ObjectId('5cf72d0aeaa0c7361470e5d4'), 'name': 'Michael', 'student_id': '100329582', 'address': '9852, Elliott street, Vancouver, BC'}\n",
      "{'_id': ObjectId('5cf7299aeaa0c7361470e5cf'), 'name': 'Richard', 'student_id': '100329583', 'address': 'Campus'}\n",
      "{'_id': ObjectId('5cf72d0aeaa0c7361470e5d5'), 'name': 'Richard', 'student_id': '100329583', 'address': '1234, Victoria Street, Vancouver, BC'}\n"
     ]
    }
   ],
   "source": [
    "for resulttemp in sortresultasc:\n",
    "    print(resulttemp)"
   ]
  },
  {
   "cell_type": "code",
   "execution_count": 206,
   "metadata": {},
   "outputs": [],
   "source": [
    "sortresultdsc = posts.find().sort(\"name\",-1) #descending"
   ]
  },
  {
   "cell_type": "code",
   "execution_count": 207,
   "metadata": {},
   "outputs": [
    {
     "name": "stdout",
     "output_type": "stream",
     "text": [
      "{'_id': ObjectId('5cf7299aeaa0c7361470e5cf'), 'name': 'Richard', 'student_id': '100329583', 'address': 'Campus'}\n",
      "{'_id': ObjectId('5cf72d0aeaa0c7361470e5d5'), 'name': 'Richard', 'student_id': '100329583', 'address': '1234, Victoria Street, Vancouver, BC'}\n",
      "{'_id': ObjectId('5cf72d0aeaa0c7361470e5d4'), 'name': 'Michael', 'student_id': '100329582', 'address': '9852, Elliott street, Vancouver, BC'}\n",
      "{'_id': ObjectId('5cf7299aeaa0c7361470e5ce'), 'name': 'John David', 'student_id': '100329582', 'address': 'Campus'}\n",
      "{'_id': ObjectId('5cf7299aeaa0c7361470e5d0'), 'name': 'Joey', 'student_id': '100329584', 'address': 'Campus'}\n",
      "{'_id': ObjectId('5cf72d0aeaa0c7361470e5d6'), 'name': 'Joey', 'student_id': '100329584', 'address': '2345 Saint John Street, Aucland, New Zealand'}\n",
      "{'_id': ObjectId('5cf72998eaa0c7361470e5cd'), 'name': 'Abhishek', 'student_id': '100329591', 'address': 'Campus'}\n",
      "{'_id': ObjectId('5cf72d0aeaa0c7361470e5d3'), 'name': 'Abhishek', 'student_id': '100329591', 'address': '5468, Ross Street, Vancouver, BC'}\n"
     ]
    }
   ],
   "source": [
    "for resulttemp in sortresultdsc:\n",
    "    print(resulttemp)"
   ]
  },
  {
   "cell_type": "markdown",
   "metadata": {},
   "source": [
    "### <div class=\"alert alert-info\"><center>Update Document</div>"
   ]
  },
  {
   "cell_type": "markdown",
   "metadata": {},
   "source": [
    "#### 1. Update using update_one() to update single data"
   ]
  },
  {
   "cell_type": "code",
   "execution_count": 208,
   "metadata": {},
   "outputs": [],
   "source": [
    "query = { \"name\": \"Michael\" }\n",
    "new_name = { \"$set\": { \"name\": \"John David\" } }"
   ]
  },
  {
   "cell_type": "code",
   "execution_count": 209,
   "metadata": {},
   "outputs": [
    {
     "data": {
      "text/plain": [
       "<pymongo.results.UpdateResult at 0x1af48baf908>"
      ]
     },
     "execution_count": 209,
     "metadata": {},
     "output_type": "execute_result"
    }
   ],
   "source": [
    "posts.update_one(query,new_name)"
   ]
  },
  {
   "cell_type": "code",
   "execution_count": 210,
   "metadata": {},
   "outputs": [
    {
     "name": "stdout",
     "output_type": "stream",
     "text": [
      "{'_id': ObjectId('5cf72998eaa0c7361470e5cd'), 'name': 'Abhishek', 'student_id': '100329591', 'address': 'Campus'}\n",
      "{'_id': ObjectId('5cf7299aeaa0c7361470e5ce'), 'name': 'John David', 'student_id': '100329582', 'address': 'Campus'}\n",
      "{'_id': ObjectId('5cf7299aeaa0c7361470e5cf'), 'name': 'Richard', 'student_id': '100329583', 'address': 'Campus'}\n",
      "{'_id': ObjectId('5cf7299aeaa0c7361470e5d0'), 'name': 'Joey', 'student_id': '100329584', 'address': 'Campus'}\n",
      "{'_id': ObjectId('5cf72d0aeaa0c7361470e5d3'), 'name': 'Abhishek', 'student_id': '100329591', 'address': '5468, Ross Street, Vancouver, BC'}\n",
      "{'_id': ObjectId('5cf72d0aeaa0c7361470e5d4'), 'name': 'John David', 'student_id': '100329582', 'address': '9852, Elliott street, Vancouver, BC'}\n",
      "{'_id': ObjectId('5cf72d0aeaa0c7361470e5d5'), 'name': 'Richard', 'student_id': '100329583', 'address': '1234, Victoria Street, Vancouver, BC'}\n",
      "{'_id': ObjectId('5cf72d0aeaa0c7361470e5d6'), 'name': 'Joey', 'student_id': '100329584', 'address': '2345 Saint John Street, Aucland, New Zealand'}\n"
     ]
    }
   ],
   "source": [
    "for postsupdate in posts.find():\n",
    "    print(postsupdate)"
   ]
  },
  {
   "cell_type": "code",
   "execution_count": 211,
   "metadata": {},
   "outputs": [],
   "source": [
    "myquery = { \"student_id\": { \"$regex\": \"^100\" } }\n",
    "new_address = { \"$set\": { \"address\": \"Campus\" } }"
   ]
  },
  {
   "cell_type": "code",
   "execution_count": 212,
   "metadata": {},
   "outputs": [
    {
     "data": {
      "text/plain": [
       "<pymongo.results.UpdateResult at 0x1af48b98688>"
      ]
     },
     "execution_count": 212,
     "metadata": {},
     "output_type": "execute_result"
    }
   ],
   "source": [
    "posts.update_many(myquery,new_address)"
   ]
  },
  {
   "cell_type": "code",
   "execution_count": 213,
   "metadata": {},
   "outputs": [
    {
     "name": "stdout",
     "output_type": "stream",
     "text": [
      "{'_id': ObjectId('5cf72998eaa0c7361470e5cd'), 'name': 'Abhishek', 'student_id': '100329591', 'address': 'Campus'}\n",
      "{'_id': ObjectId('5cf7299aeaa0c7361470e5ce'), 'name': 'John David', 'student_id': '100329582', 'address': 'Campus'}\n",
      "{'_id': ObjectId('5cf7299aeaa0c7361470e5cf'), 'name': 'Richard', 'student_id': '100329583', 'address': 'Campus'}\n",
      "{'_id': ObjectId('5cf7299aeaa0c7361470e5d0'), 'name': 'Joey', 'student_id': '100329584', 'address': 'Campus'}\n",
      "{'_id': ObjectId('5cf72d0aeaa0c7361470e5d3'), 'name': 'Abhishek', 'student_id': '100329591', 'address': 'Campus'}\n",
      "{'_id': ObjectId('5cf72d0aeaa0c7361470e5d4'), 'name': 'John David', 'student_id': '100329582', 'address': 'Campus'}\n",
      "{'_id': ObjectId('5cf72d0aeaa0c7361470e5d5'), 'name': 'Richard', 'student_id': '100329583', 'address': 'Campus'}\n",
      "{'_id': ObjectId('5cf72d0aeaa0c7361470e5d6'), 'name': 'Joey', 'student_id': '100329584', 'address': 'Campus'}\n"
     ]
    }
   ],
   "source": [
    "for updatedata in posts.find():\n",
    "    print(updatedata)"
   ]
  },
  {
   "cell_type": "markdown",
   "metadata": {},
   "source": [
    "### <div class=\"alert alert-info\"><center>Limit Document</div>"
   ]
  },
  {
   "cell_type": "code",
   "execution_count": 214,
   "metadata": {},
   "outputs": [
    {
     "name": "stdout",
     "output_type": "stream",
     "text": [
      "{'_id': ObjectId('5cf72998eaa0c7361470e5cd'), 'name': 'Abhishek', 'student_id': '100329591', 'address': 'Campus'}\n"
     ]
    }
   ],
   "source": [
    "limited_result = posts.find().limit(1)\n",
    "for x in limited_result:\n",
    "    print(x)"
   ]
  },
  {
   "cell_type": "code",
   "execution_count": 215,
   "metadata": {},
   "outputs": [],
   "source": [
    "temp_val = posts.find()[1:4]"
   ]
  },
  {
   "cell_type": "code",
   "execution_count": 216,
   "metadata": {},
   "outputs": [
    {
     "name": "stdout",
     "output_type": "stream",
     "text": [
      "{'_id': ObjectId('5cf7299aeaa0c7361470e5ce'), 'name': 'John David', 'student_id': '100329582', 'address': 'Campus'}\n",
      "{'_id': ObjectId('5cf7299aeaa0c7361470e5cf'), 'name': 'Richard', 'student_id': '100329583', 'address': 'Campus'}\n",
      "{'_id': ObjectId('5cf7299aeaa0c7361470e5d0'), 'name': 'Joey', 'student_id': '100329584', 'address': 'Campus'}\n"
     ]
    }
   ],
   "source": [
    "for x in temp_val:\n",
    "    print(x)"
   ]
  },
  {
   "cell_type": "code",
   "execution_count": 217,
   "metadata": {},
   "outputs": [],
   "source": [
    "## Starting from any point till end\n",
    "temp_val = posts.find()[2:]"
   ]
  },
  {
   "cell_type": "code",
   "execution_count": 218,
   "metadata": {},
   "outputs": [
    {
     "name": "stdout",
     "output_type": "stream",
     "text": [
      "{'_id': ObjectId('5cf7299aeaa0c7361470e5cf'), 'name': 'Richard', 'student_id': '100329583', 'address': 'Campus'}\n",
      "{'_id': ObjectId('5cf7299aeaa0c7361470e5d0'), 'name': 'Joey', 'student_id': '100329584', 'address': 'Campus'}\n",
      "{'_id': ObjectId('5cf72d0aeaa0c7361470e5d3'), 'name': 'Abhishek', 'student_id': '100329591', 'address': 'Campus'}\n",
      "{'_id': ObjectId('5cf72d0aeaa0c7361470e5d4'), 'name': 'John David', 'student_id': '100329582', 'address': 'Campus'}\n",
      "{'_id': ObjectId('5cf72d0aeaa0c7361470e5d5'), 'name': 'Richard', 'student_id': '100329583', 'address': 'Campus'}\n",
      "{'_id': ObjectId('5cf72d0aeaa0c7361470e5d6'), 'name': 'Joey', 'student_id': '100329584', 'address': 'Campus'}\n"
     ]
    }
   ],
   "source": [
    "for x in temp_val:\n",
    "    print(x)"
   ]
  },
  {
   "cell_type": "markdown",
   "metadata": {},
   "source": [
    "### <div class=\"alert alert-info\"><center>Delete Documents</div>"
   ]
  },
  {
   "cell_type": "markdown",
   "metadata": {},
   "source": [
    "#### 1. Delete using delete_one() to retrieve single data"
   ]
  },
  {
   "cell_type": "code",
   "execution_count": 219,
   "metadata": {},
   "outputs": [],
   "source": [
    "delquery = { \"address\": \"9852, Elliott street, Vancouver, BC\" }"
   ]
  },
  {
   "cell_type": "code",
   "execution_count": 220,
   "metadata": {},
   "outputs": [
    {
     "data": {
      "text/plain": [
       "<pymongo.results.DeleteResult at 0x1af48ba55c8>"
      ]
     },
     "execution_count": 220,
     "metadata": {},
     "output_type": "execute_result"
    }
   ],
   "source": [
    "posts.delete_one(delquery)"
   ]
  },
  {
   "cell_type": "markdown",
   "metadata": {},
   "source": [
    "#### 2. Delete using delete_many() to retrieve single data"
   ]
  },
  {
   "cell_type": "code",
   "execution_count": 221,
   "metadata": {},
   "outputs": [
    {
     "name": "stdout",
     "output_type": "stream",
     "text": [
      "0  documents deleted.\n"
     ]
    }
   ],
   "source": [
    "myquery = { \"address\": {\"$regex\": \"^5\"} }\n",
    "\n",
    "delresult = posts.delete_many(myquery)\n",
    "\n",
    "print(delresult.deleted_count, \" documents deleted.\")"
   ]
  },
  {
   "cell_type": "markdown",
   "metadata": {},
   "source": [
    "#### 3. Delete all collection using delete_many() to retrieve single data"
   ]
  },
  {
   "cell_type": "code",
   "execution_count": 222,
   "metadata": {},
   "outputs": [
    {
     "name": "stdout",
     "output_type": "stream",
     "text": [
      "8  documents deleted.\n"
     ]
    }
   ],
   "source": [
    "delallresult = posts.delete_many({})\n",
    "\n",
    "print(delallresult.deleted_count, \" documents deleted.\")"
   ]
  },
  {
   "cell_type": "markdown",
   "metadata": {},
   "source": [
    "### <div class=\"alert alert-info\"><center>Delete Collection</div>"
   ]
  },
  {
   "cell_type": "code",
   "execution_count": 223,
   "metadata": {},
   "outputs": [],
   "source": [
    "client.drop_database('pymongo_test_db')\n",
    "# client.drop_database('<Database name>')"
   ]
  },
  {
   "cell_type": "code",
   "execution_count": 224,
   "metadata": {},
   "outputs": [],
   "source": [
    "posts.drop()"
   ]
  },
  {
   "cell_type": "markdown",
   "metadata": {},
   "source": [
    "#### <div style='color:red'>Note: drop() returns true if the collection was dropped succesfully else returns false</div>"
   ]
  }
 ],
 "metadata": {
  "kernelspec": {
   "display_name": "Python 3",
   "language": "python",
   "name": "python3"
  },
  "language_info": {
   "codemirror_mode": {
    "name": "ipython",
    "version": 3
   },
   "file_extension": ".py",
   "mimetype": "text/x-python",
   "name": "python",
   "nbconvert_exporter": "python",
   "pygments_lexer": "ipython3",
   "version": "3.7.3"
  }
 },
 "nbformat": 4,
 "nbformat_minor": 2
}
